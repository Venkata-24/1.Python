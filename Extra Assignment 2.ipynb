{
 "cells": [
  {
   "cell_type": "code",
   "execution_count": null,
   "id": "db571af9",
   "metadata": {},
   "outputs": [],
   "source": [
    "# print 0 to 20 by using range"
   ]
  },
  {
   "cell_type": "code",
   "execution_count": 4,
   "id": "51c07b4c",
   "metadata": {},
   "outputs": [
    {
     "name": "stdout",
     "output_type": "stream",
     "text": [
      "0\n",
      "1\n",
      "2\n",
      "3\n",
      "4\n",
      "5\n",
      "6\n",
      "7\n",
      "8\n",
      "9\n",
      "10\n",
      "11\n",
      "12\n",
      "13\n",
      "14\n",
      "15\n",
      "16\n",
      "17\n",
      "18\n",
      "19\n"
     ]
    }
   ],
   "source": [
    "for num in range(0,20):\n",
    "    print(num)"
   ]
  },
  {
   "cell_type": "code",
   "execution_count": null,
   "id": "3a199b6e",
   "metadata": {},
   "outputs": [],
   "source": [
    "# print range 10 to 20"
   ]
  },
  {
   "cell_type": "code",
   "execution_count": 7,
   "id": "3f76e1fb",
   "metadata": {},
   "outputs": [
    {
     "name": "stdout",
     "output_type": "stream",
     "text": [
      "10 11 12 13 14 15 16 17 18 19 "
     ]
    }
   ],
   "source": [
    "for num in range(10,20):\n",
    "    print(num,end=\" \")"
   ]
  },
  {
   "cell_type": "code",
   "execution_count": null,
   "id": "c0243c42",
   "metadata": {},
   "outputs": [],
   "source": [
    " # Print number of items in the list by using 'len'"
   ]
  },
  {
   "cell_type": "code",
   "execution_count": null,
   "id": "949a881b",
   "metadata": {},
   "outputs": [],
   "source": [
    "[10, 20, 14, 55, 43, 87, 76]\n",
    "Number of item in the List2: \n",
    "7"
   ]
  },
  {
   "cell_type": "code",
   "execution_count": 11,
   "id": "98d94621",
   "metadata": {},
   "outputs": [
    {
     "name": "stdout",
     "output_type": "stream",
     "text": [
      "[10, 20, 14, 55, 43, 87, 76]\n",
      "Number of item in the List2:  7\n"
     ]
    }
   ],
   "source": [
    "List2 = [10, 20, 14, 55, 43, 87, 76]\n",
    "print(List2)\n",
    "print(\"Number of item in the List2: \",len(List2))"
   ]
  },
  {
   "cell_type": "code",
   "execution_count": 15,
   "id": "da4e3a0a",
   "metadata": {},
   "outputs": [
    {
     "name": "stdout",
     "output_type": "stream",
     "text": [
      "Artificial Intelligence\n",
      "A\n",
      "r\n",
      "t\n",
      "i\n",
      "f\n",
      "i\n",
      "c\n",
      "i\n",
      "a\n",
      "l\n",
      " \n",
      "I\n",
      "n\n",
      "t\n",
      "e\n",
      "l\n",
      "l\n",
      "i\n",
      "g\n",
      "e\n",
      "n\n",
      "c\n",
      "e\n"
     ]
    }
   ],
   "source": [
    "print(\"Artificial Intelligence\")\n",
    "s=\"Artificial Intelligence\"\n",
    "for i in s:\n",
    "    print(i)"
   ]
  },
  {
   "cell_type": "code",
   "execution_count": 16,
   "id": "97db2a4c",
   "metadata": {},
   "outputs": [
    {
     "name": "stdout",
     "output_type": "stream",
     "text": [
      "-Your Name-\n",
      "-Your Age-\n",
      "-Your Profession-\n"
     ]
    }
   ],
   "source": [
    "list = [\"-Your Name-\", \"-Your Age-\", \"-Your Profession-\"]\n",
    "for i in list:\n",
    " print(i)"
   ]
  },
  {
   "cell_type": "code",
   "execution_count": 17,
   "id": "a5608812",
   "metadata": {},
   "outputs": [
    {
     "name": "stdout",
     "output_type": "stream",
     "text": [
      "(1, 'Welcome', 2, 'Hope')\n"
     ]
    }
   ],
   "source": [
    "# Refer this link : https://www.geeksforgeeks.org/python-tuples/\n",
    "# Print yhis mixered datatype using Tuples\n",
    "Tuple = (1, 'Welcome', 2, 'Hope')\n",
    "print(Tuple)"
   ]
  },
  {
   "cell_type": "code",
   "execution_count": null,
   "id": "e2e9edec",
   "metadata": {},
   "outputs": [],
   "source": [
    "# Refer this link : https://www.geeksforgeeks.org/python-tuples/\n",
    "Tuple1 = (0, 1, 2, 3)\n"
   ]
  },
  {
   "cell_type": "code",
   "execution_count": 18,
   "id": "80492948",
   "metadata": {},
   "outputs": [
    {
     "name": "stdout",
     "output_type": "stream",
     "text": [
      "((0, 1, 2, 3), ('python', 'HOPE'))\n"
     ]
    }
   ],
   "source": [
    "Tuple1 = (0, 1, 2, 3)\n",
    "Tuple2 = ('python', 'HOPE')\n",
    "Tuple3 = (Tuple1, Tuple2)\n",
    "print(Tuple3)\n"
   ]
  },
  {
   "cell_type": "code",
   "execution_count": null,
   "id": "279f0c73",
   "metadata": {},
   "outputs": [],
   "source": [
    "# print Odd Numbers in the list\n",
    "(20,10,16,19,25,1,276,188)"
   ]
  },
  {
   "cell_type": "code",
   "execution_count": 21,
   "id": "fd2aae04",
   "metadata": {},
   "outputs": [
    {
     "name": "stdout",
     "output_type": "stream",
     "text": [
      "(20, 10, 16, 19, 25, 1, 276, 188)\n",
      "19  is odd\n",
      "25  is odd\n",
      "1  is odd\n"
     ]
    }
   ],
   "source": [
    "num = (20,10,16,19,25,1,276,188)\n",
    "print(num)\n",
    "for i in num:\n",
    "    if i % 2 == 1:\n",
    "        print(i,\" is odd\")"
   ]
  },
  {
   "cell_type": "code",
   "execution_count": null,
   "id": "a9e7b43e",
   "metadata": {},
   "outputs": [],
   "source": [
    " # print Even numbers in the list"
   ]
  },
  {
   "cell_type": "code",
   "execution_count": 22,
   "id": "517120d0",
   "metadata": {},
   "outputs": [
    {
     "name": "stdout",
     "output_type": "stream",
     "text": [
      "(20, 10, 16, 19, 25, 1, 276, 188)\n",
      "20  is even\n",
      "10  is even\n",
      "16  is even\n",
      "276  is even\n",
      "188  is even\n"
     ]
    }
   ],
   "source": [
    "num = (20,10,16,19,25,1,276,188)\n",
    "print(num)\n",
    "for i in num:\n",
    "    if i % 2 == 0:\n",
    "        print(i,\" is even\")"
   ]
  },
  {
   "cell_type": "code",
   "execution_count": null,
   "id": "1dab20d6",
   "metadata": {},
   "outputs": [],
   "source": []
  }
 ],
 "metadata": {
  "kernelspec": {
   "display_name": "Python 3 (ipykernel)",
   "language": "python",
   "name": "python3"
  },
  "language_info": {
   "codemirror_mode": {
    "name": "ipython",
    "version": 3
   },
   "file_extension": ".py",
   "mimetype": "text/x-python",
   "name": "python",
   "nbconvert_exporter": "python",
   "pygments_lexer": "ipython3",
   "version": "3.11.4"
  }
 },
 "nbformat": 4,
 "nbformat_minor": 5
}
