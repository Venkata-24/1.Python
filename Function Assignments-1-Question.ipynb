{
 "cells": [
  {
   "cell_type": "code",
   "execution_count": 1,
   "metadata": {},
   "outputs": [],
   "source": [
    "# Create Function"
   ]
  },
  {
   "cell_type": "code",
   "execution_count": 9,
   "metadata": {},
   "outputs": [],
   "source": [
    "def subfields():\n",
    "    print(\"Sub-fields in AI are: \\n\"\n",
    "          \"Machine Learning \\n\"\n",
    "          \"Neural Networks \\n\"\n",
    "          \"Vision \\n\"\n",
    "          \"Robotics \\n\"\n",
    "          \"Speech Processing \\n\"\n",
    "          \"Natural Language Processing\")\n",
    "    "
   ]
  },
  {
   "cell_type": "code",
   "execution_count": 10,
   "metadata": {},
   "outputs": [
    {
     "name": "stdout",
     "output_type": "stream",
     "text": [
      "Sub-fields in AI are: \n",
      "Machine Learning \n",
      "Neural Networks \n",
      "Vision \n",
      "Robotics \n",
      "Speech Processing \n",
      "Natural Language Processing\n"
     ]
    }
   ],
   "source": [
    "subfields()"
   ]
  },
  {
   "cell_type": "code",
   "execution_count": 3,
   "metadata": {},
   "outputs": [],
   "source": [
    "# Create Function"
   ]
  },
  {
   "cell_type": "code",
   "execution_count": 14,
   "metadata": {},
   "outputs": [],
   "source": [
    "def oddeven ():\n",
    "    if (num%2==1):\n",
    "        print(num, \"is Odd number\")\n",
    "    else:\n",
    "        print(num, \"is Even number\")\n",
    "    "
   ]
  },
  {
   "cell_type": "code",
   "execution_count": 15,
   "metadata": {},
   "outputs": [
    {
     "name": "stdout",
     "output_type": "stream",
     "text": [
      "Enter a number: 4\n",
      "4 is Even number\n"
     ]
    }
   ],
   "source": [
    "num = int(input(\"Enter a number: \"))\n",
    "oddeven ()"
   ]
  },
  {
   "cell_type": "code",
   "execution_count": 6,
   "metadata": {},
   "outputs": [],
   "source": [
    "# Create Function"
   ]
  },
  {
   "cell_type": "code",
   "execution_count": 33,
   "metadata": {},
   "outputs": [],
   "source": [
    "def eligible():\n",
    "    if(Gender=='Male'):\n",
    "            if(Age >=21):\n",
    "                print('ELIGIBLE')\n",
    "            else:\n",
    "                print('NOT ELIGIBLE')\n",
    "    elif(Gender=='Female'):\n",
    "            if(Age >18):\n",
    "                print('ELIGIBLE')\n",
    "            else:\n",
    "                print('NOT ELIGIBLE')\n",
    "    else:\n",
    "            print('INVALID INPUT DATA')\n",
    "        "
   ]
  },
  {
   "cell_type": "code",
   "execution_count": 34,
   "metadata": {},
   "outputs": [
    {
     "name": "stdout",
     "output_type": "stream",
     "text": [
      "Your Gender: Male\n",
      "Your Age: 18\n",
      "NOT ELIGIBLE\n"
     ]
    }
   ],
   "source": [
    "Gender =input(\"Your Gender: \")\n",
    "Age = int(input(\"Your Age: \"))\n",
    "eligible()"
   ]
  },
  {
   "cell_type": "code",
   "execution_count": 8,
   "metadata": {},
   "outputs": [],
   "source": [
    "# Create Function"
   ]
  },
  {
   "cell_type": "code",
   "execution_count": 35,
   "metadata": {},
   "outputs": [],
   "source": [
    "def percentage():\n",
    "    Sub1=int(input(\"Subject1= \"))\n",
    "    Sub2=int(input(\"Subject2= \"))\n",
    "    Sub3=int(input(\"Subject3= \"))\n",
    "    Sub4=int(input(\"Subject4= \"))\n",
    "    Sub5=int(input(\"Subject5= \"))\n",
    "    Total = Sub1+Sub2+Sub3+Sub4+Sub5\n",
    "    print(\"Total: \",Sub1+Sub2+Sub3+Sub4+Sub5)\n",
    "    percent = (Total/500) * 100\n",
    "    print(\"Percentage : \",percent)"
   ]
  },
  {
   "cell_type": "code",
   "execution_count": 36,
   "metadata": {},
   "outputs": [
    {
     "name": "stdout",
     "output_type": "stream",
     "text": [
      "Subject1= 23\n",
      "Subject2= 45\n",
      "Subject3= 34\n",
      "Subject4= 23\n",
      "Subject5= 23\n",
      "Total:  148\n",
      "Percentage :  29.599999999999998\n"
     ]
    }
   ],
   "source": [
    "percentage()"
   ]
  },
  {
   "cell_type": "code",
   "execution_count": 10,
   "metadata": {},
   "outputs": [],
   "source": [
    "# Create Function"
   ]
  },
  {
   "cell_type": "code",
   "execution_count": 37,
   "metadata": {},
   "outputs": [],
   "source": [
    "def triangle():\n",
    "    Height=int(input(\"Height:\"))\n",
    "    breadth=int(input(\"Breadth:\"))\n",
    "    print(\"Area formula: (Height*Breadth)/2\")\n",
    "    print(\"Area of Triangle: \",(Height*breadth)/2)\n",
    "    Height1=int(input(\"Height1:\"))\n",
    "    Height2=int(input(\"Height2:\"))\n",
    "    breadth=int(input(\"Breadth:\"))\n",
    "    print(\"Perimeter formula: Height1+Height2+Breadth\")\n",
    "    print(\"Perimeter of Triangle: \",Height1+Height2+breadth)"
   ]
  },
  {
   "cell_type": "code",
   "execution_count": 38,
   "metadata": {},
   "outputs": [
    {
     "name": "stdout",
     "output_type": "stream",
     "text": [
      "Height:3\n",
      "Breadth:4\n",
      "Area formula: (Height*Breadth)/2\n",
      "Area of Triangle:  6.0\n",
      "Height1:3\n",
      "Height2:4\n",
      "Breadth:45\n",
      "Perimeter formula: Height1+Height2+Breadth\n",
      "Perimeter of Triangle:  52\n"
     ]
    }
   ],
   "source": [
    "triangle()"
   ]
  },
  {
   "cell_type": "code",
   "execution_count": null,
   "metadata": {},
   "outputs": [],
   "source": []
  }
 ],
 "metadata": {
  "kernelspec": {
   "display_name": "Python 3 (ipykernel)",
   "language": "python",
   "name": "python3"
  },
  "language_info": {
   "codemirror_mode": {
    "name": "ipython",
    "version": 3
   },
   "file_extension": ".py",
   "mimetype": "text/x-python",
   "name": "python",
   "nbconvert_exporter": "python",
   "pygments_lexer": "ipython3",
   "version": "3.11.4"
  }
 },
 "nbformat": 4,
 "nbformat_minor": 2
}
