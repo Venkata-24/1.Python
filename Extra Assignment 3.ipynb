{
 "cells": [
  {
   "cell_type": "code",
   "execution_count": null,
   "id": "40f497d2",
   "metadata": {},
   "outputs": [],
   "source": [
    "# print 'CORRECT' if i == 10"
   ]
  },
  {
   "cell_type": "code",
   "execution_count": 3,
   "id": "5f0d9e5b",
   "metadata": {},
   "outputs": [
    {
     "name": "stdout",
     "output_type": "stream",
     "text": [
      "value: 10\n",
      "correct\n"
     ]
    }
   ],
   "source": [
    "i = int(input(\"value: \"))\n",
    "if (i==10):\n",
    "    print(\"correct\")\n",
    "else:\n",
    "    print(\"wrong\")"
   ]
  },
  {
   "cell_type": "code",
   "execution_count": null,
   "id": "2ecdebbd",
   "metadata": {},
   "outputs": [],
   "source": [
    "# Check the password, using if and else"
   ]
  },
  {
   "cell_type": "code",
   "execution_count": 5,
   "id": "5a3078bb",
   "metadata": {},
   "outputs": [
    {
     "name": "stdout",
     "output_type": "stream",
     "text": [
      "Enter your password: HOPE@123\n",
      "Your password is correct\n"
     ]
    }
   ],
   "source": [
    "i=input(\"Enter your password: \")\n",
    "if (i == \"HOPE@123\"):\n",
    "    print(\"Your password is correct\")\n",
    "else:\n",
    "    print(\"Your password is in-correct\")"
   ]
  },
  {
   "cell_type": "code",
   "execution_count": null,
   "id": "0702fc87",
   "metadata": {},
   "outputs": [],
   "source": [
    " # Catagory the people by their age like children, adult, citizen, senior citizen...\n"
   ]
  },
  {
   "cell_type": "code",
   "execution_count": 7,
   "id": "93d0b12c",
   "metadata": {},
   "outputs": [
    {
     "name": "stdout",
     "output_type": "stream",
     "text": [
      "age: 56\n",
      "citizen\n"
     ]
    }
   ],
   "source": [
    "num = int(input(\"age: \"))\n",
    "if(num<=18):\n",
    "    print(\"children\")\n",
    "elif(num<=35):\n",
    "    print(\"adult\")\n",
    "elif(num<=60):\n",
    "    print(\"citizen\")\n",
    "else:\n",
    "    print(\"senior citizen\")"
   ]
  },
  {
   "cell_type": "code",
   "execution_count": null,
   "id": "efe914ee",
   "metadata": {},
   "outputs": [],
   "source": [
    "# Find whether given number is positive or negative"
   ]
  },
  {
   "cell_type": "code",
   "execution_count": 8,
   "id": "f37e1480",
   "metadata": {},
   "outputs": [
    {
     "name": "stdout",
     "output_type": "stream",
     "text": [
      "Enter any number: 78\n",
      "No is Positive\n"
     ]
    }
   ],
   "source": [
    "n = int(input(\"Enter any number: \"))\n",
    "if (n>0):\n",
    "    print(\"No is Positive\")\n",
    "elif(n<0):\n",
    "    print(\"No is negative\")\n",
    "else:\n",
    "    print(\"No is zero\")"
   ]
  },
  {
   "cell_type": "code",
   "execution_count": null,
   "id": "d526bceb",
   "metadata": {},
   "outputs": [],
   "source": [
    " # Check whether the given number is divisible by 5"
   ]
  },
  {
   "cell_type": "code",
   "execution_count": 9,
   "id": "3c14dbe5",
   "metadata": {},
   "outputs": [
    {
     "name": "stdout",
     "output_type": "stream",
     "text": [
      "Enter a number to check: 45\n",
      "No is divisble by 5\n"
     ]
    }
   ],
   "source": [
    "n = int(input(\"Enter a number to check: \"))\n",
    "if(n/5):\n",
    "    print(\"No is divisble by 5\")\n",
    "else:\n",
    "    print(\"No is not divisble by 5\")"
   ]
  },
  {
   "cell_type": "code",
   "execution_count": null,
   "id": "e6c4429f",
   "metadata": {},
   "outputs": [],
   "source": []
  }
 ],
 "metadata": {
  "kernelspec": {
   "display_name": "Python 3 (ipykernel)",
   "language": "python",
   "name": "python3"
  },
  "language_info": {
   "codemirror_mode": {
    "name": "ipython",
    "version": 3
   },
   "file_extension": ".py",
   "mimetype": "text/x-python",
   "name": "python",
   "nbconvert_exporter": "python",
   "pygments_lexer": "ipython3",
   "version": "3.11.4"
  }
 },
 "nbformat": 4,
 "nbformat_minor": 5
}
