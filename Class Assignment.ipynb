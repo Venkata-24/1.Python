{
 "cells": [
  {
   "cell_type": "code",
   "execution_count": null,
   "id": "324e8918",
   "metadata": {},
   "outputs": [],
   "source": [
    " # Create a class and function, and list out the items in the list\n"
   ]
  },
  {
   "cell_type": "code",
   "execution_count": 6,
   "id": "ca00fc6a",
   "metadata": {},
   "outputs": [],
   "source": [
    "class  SubfieldsInAI():\n",
    "    def subfields():\n",
    "    print(\"Sub-fields in AI are: \\n\"\n",
    "          \"Machine Learning \\n\"\n",
    "          \"Neural Networks \\n\"\n",
    "          \"Vision \\n\"\n",
    "          \"Robotics \\n\"\n",
    "          \"Speech Processing \\n\"\n",
    "          \"Natural Language Processing\")"
   ]
  },
  {
   "cell_type": "code",
   "execution_count": 9,
   "id": "8cc7b1b5",
   "metadata": {},
   "outputs": [
    {
     "name": "stdout",
     "output_type": "stream",
     "text": [
      "Sub-fields in AI are: \n",
      "Machine Learning \n",
      "Neural Networks \n",
      "Vision \n",
      "Robotics \n",
      "Speech Processing \n",
      "Natural Language Processing\n"
     ]
    }
   ],
   "source": [
    "SubfieldsInAI.subfields()"
   ]
  },
  {
   "cell_type": "code",
   "execution_count": null,
   "id": "e26377bc",
   "metadata": {},
   "outputs": [],
   "source": [
    "# Create a function that checks whether the given number is Odd or Even"
   ]
  },
  {
   "cell_type": "code",
   "execution_count": 26,
   "id": "c5a4b7a8",
   "metadata": {},
   "outputs": [],
   "source": [
    "class OddEven():\n",
    "     def oddeven():\n",
    "        num=int(input(\"Enter a number: \"))\n",
    "        if ((num%2)==1):\n",
    "            print(num, \"is Odd number\")\n",
    "        else:\n",
    "            print(num, \"is Even number\")"
   ]
  },
  {
   "cell_type": "code",
   "execution_count": 27,
   "id": "a8a3fe1d",
   "metadata": {},
   "outputs": [
    {
     "name": "stdout",
     "output_type": "stream",
     "text": [
      "Enter a number: 52452\n",
      "52452 is Even number\n"
     ]
    }
   ],
   "source": [
    "OddEven.oddeven()"
   ]
  },
  {
   "cell_type": "code",
   "execution_count": null,
   "id": "e6f338ba",
   "metadata": {},
   "outputs": [],
   "source": [
    " # Create a function that tells elegibility of marriage for male and female according to thei\n",
    "r age limit like 21 for male and 18 for female"
   ]
  },
  {
   "cell_type": "code",
   "execution_count": 34,
   "id": "fa17f5e8",
   "metadata": {},
   "outputs": [],
   "source": [
    "class ElegiblityForMarriage ():\n",
    "    def Eligible():\n",
    "        Gender =input(\"Your Gender: \")\n",
    "        Age = int(input(\"Your Age: \"))\n",
    "        if(Gender=='Male'):\n",
    "            if(Age >=21):\n",
    "                print('ELIGIBLE')\n",
    "            else:\n",
    "                print('NOT ELIGIBLE')\n",
    "        elif(Gender=='Female'):\n",
    "            if(Age >18):\n",
    "                print('ELIGIBLE')\n",
    "            else:\n",
    "                print('NOT ELIGIBLE')\n",
    "        else:\n",
    "            print('INVALID INPUT DATA')"
   ]
  },
  {
   "cell_type": "code",
   "execution_count": 35,
   "id": "46ff96fd",
   "metadata": {},
   "outputs": [
    {
     "name": "stdout",
     "output_type": "stream",
     "text": [
      "Your Gender: Male\n",
      "Your Age: 30\n",
      "ELIGIBLE\n"
     ]
    }
   ],
   "source": [
    " ElegiblityForMarriage.Eligible()"
   ]
  },
  {
   "cell_type": "code",
   "execution_count": null,
   "id": "70bbbc32",
   "metadata": {},
   "outputs": [],
   "source": [
    "# calculate the percentage of your 10th mark"
   ]
  },
  {
   "cell_type": "code",
   "execution_count": 44,
   "id": "7dc42488",
   "metadata": {},
   "outputs": [],
   "source": [
    "class FindPercent():\n",
    "    def percentage():\n",
    "        Sub1=int(input(\"Subject1= \"))\n",
    "        Sub2=int(input(\"Subject2= \"))\n",
    "        Sub3=int(input(\"Subject3= \"))\n",
    "        Sub4=int(input(\"Subject4= \"))\n",
    "        Sub5=int(input(\"Subject5= \"))\n",
    "        Total = Sub1+Sub2+Sub3+Sub4+Sub5\n",
    "        print(\"Total: \",Sub1+Sub2+Sub3+Sub4+Sub5)\n",
    "        percent = (Total/500) * 100\n",
    "        print(\"Percentage : \",percent)"
   ]
  },
  {
   "cell_type": "code",
   "execution_count": 45,
   "id": "f46c2e0c",
   "metadata": {},
   "outputs": [
    {
     "name": "stdout",
     "output_type": "stream",
     "text": [
      "Subject1= 98\n",
      "Subject2= 87\n",
      "Subject3= 95\n",
      "Subject4= 95\n",
      "Subject5= 93\n",
      "Total:  468\n",
      "Percentage :  93.60000000000001\n"
     ]
    }
   ],
   "source": [
    "FindPercent.percentage()"
   ]
  },
  {
   "cell_type": "code",
   "execution_count": null,
   "id": "1f8303c3",
   "metadata": {},
   "outputs": [],
   "source": [
    "#print area and perimeter of triangle using class and functions"
   ]
  },
  {
   "cell_type": "code",
   "execution_count": 48,
   "id": "debff114",
   "metadata": {},
   "outputs": [],
   "source": [
    "class triangle():\n",
    "    def triangle():\n",
    "        Height=int(input(\"Height:\"))\n",
    "        breadth=int(input(\"Breadth:\"))\n",
    "        print(\"Area formula: (Height*Breadth)/2\")\n",
    "        print(\"Area of Triangle: \",(Height*breadth)/2)\n",
    "        Height1=int(input(\"Height1:\"))\n",
    "        Height2=int(input(\"Height2:\"))\n",
    "        breadth=int(input(\"Breadth:\"))\n",
    "        print(\"Perimeter formula: Height1+Height2+Breadth\")\n",
    "        print(\"Perimeter of Triangle: \",Height1+Height2+breadth)"
   ]
  },
  {
   "cell_type": "code",
   "execution_count": 49,
   "id": "ca94e5f1",
   "metadata": {},
   "outputs": [
    {
     "name": "stdout",
     "output_type": "stream",
     "text": [
      "Height:32\n",
      "Breadth:34\n",
      "Area formula: (Height*Breadth)/2\n",
      "Area of Triangle:  544.0\n",
      "Height1:2\n",
      "Height2:4\n",
      "Breadth:4\n",
      "Perimeter formula: Height1+Height2+Breadth\n",
      "Perimeter of Triangle:  10\n"
     ]
    }
   ],
   "source": [
    "triangle.triangle()"
   ]
  },
  {
   "cell_type": "code",
   "execution_count": null,
   "id": "232ff4d7",
   "metadata": {},
   "outputs": [],
   "source": []
  },
  {
   "cell_type": "code",
   "execution_count": null,
   "id": "285cca36",
   "metadata": {},
   "outputs": [],
   "source": []
  }
 ],
 "metadata": {
  "kernelspec": {
   "display_name": "Python 3 (ipykernel)",
   "language": "python",
   "name": "python3"
  },
  "language_info": {
   "codemirror_mode": {
    "name": "ipython",
    "version": 3
   },
   "file_extension": ".py",
   "mimetype": "text/x-python",
   "name": "python",
   "nbconvert_exporter": "python",
   "pygments_lexer": "ipython3",
   "version": "3.11.4"
  }
 },
 "nbformat": 4,
 "nbformat_minor": 5
}
